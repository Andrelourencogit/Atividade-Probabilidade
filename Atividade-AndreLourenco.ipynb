{
 "cells": [
  {
   "cell_type": "markdown",
   "metadata": {},
   "source": [
    "## Trabalho Extra-Unidade 01\n",
    "\n",
    "- **Aluno**: André Luís Lourenço De Freitas \n",
    "- **Matrícula**: 2015086266\n",
    "<br>\n",
    "<div class=\"alert alert-info\">\n",
    "\n",
    "\n",
    "\n",
    "  "
   ]
  },
  {
   "cell_type": "markdown",
   "metadata": {},
   "source": [
    "## Base de dados Mega sena \n",
    "Megasena é um jogo que você pode fazer uma aposta minima de 6 numeros entre 60 dezenas e se acertar fica muito rico :)\n"
   ]
  },
  {
   "cell_type": "code",
   "execution_count": 132,
   "metadata": {},
   "outputs": [],
   "source": [
    "# Importar as bibliotecas necessárias\n",
    "import pandas as pd\n",
    "import numpy as np\n",
    "import matplotlib.pyplot as plt\n",
    "%matplotlib inline\n",
    "# Atribuir o nome da planilha para a variável \"arquivo\"\n",
    "arquivo = 'basedados.xlsx'\n",
    "# Carregar a base de dados para um objeto pandas.io.excel.ExcelFile\n",
    "excel = pd.ExcelFile(arquivo)\n",
    "# Carregar a planilha excel para um objeto dataframe\n",
    "dados = excel.parse(0)\n",
    "# Imprimir as cinco primeiras linhas do dataframe\n",
    "\n",
    "\n",
    "\n",
    "\n",
    "\n",
    "\n"
   ]
  },
  {
   "cell_type": "markdown",
   "metadata": {},
   "source": [
    "### Números quentes \n",
    "Você pode apostar nos numeros que mais sairam em toda historia , e aumentar suas chances :0"
   ]
  },
  {
   "cell_type": "code",
   "execution_count": 138,
   "metadata": {},
   "outputs": [
    {
     "data": {
      "text/plain": [
       "5     233\n",
       "53    230\n",
       "10    227\n",
       "23    224\n",
       "4     224\n",
       "54    221\n",
       "dtype: int64"
      ]
     },
     "execution_count": 138,
     "metadata": {},
     "output_type": "execute_result"
    }
   ],
   "source": [
    "dados.iloc[:,2:8].unstack().value_counts()[0:6]"
   ]
  },
  {
   "cell_type": "markdown",
   "metadata": {},
   "source": [
    "### Números  Frios :(\n",
    "Não faça  essa aposta , pois são os numeros que menos são sorteados !"
   ]
  },
  {
   "cell_type": "code",
   "execution_count": 141,
   "metadata": {},
   "outputs": [
    {
     "data": {
      "text/plain": [
       "9     183\n",
       "15    183\n",
       "21    178\n",
       "22    177\n",
       "55    174\n",
       "26    164\n",
       "dtype: int64"
      ]
     },
     "execution_count": 141,
     "metadata": {},
     "output_type": "execute_result"
    }
   ],
   "source": [
    "dados.iloc[:,2:8].unstack().value_counts()[-6:]"
   ]
  },
  {
   "cell_type": "markdown",
   "metadata": {},
   "source": [
    "### Comparação das 6 dezenas que mais sairam e menos sairam na história\n",
    "É possivel observar no gráfico abaixo que existe uma diferença razoável entre as 6 deszenas que mais sairam na história da mega sena e os que menos sairam , o que mostra que apesar de todos os numeros terem a mesma chance de ser sortedos , alguns saem com mais frequencia que outros"
   ]
  },
  {
   "cell_type": "code",
   "execution_count": 148,
   "metadata": {},
   "outputs": [
    {
     "data": {
      "image/png": "[encoded data removed]",
      "text/plain": [
       "<matplotlib.figure.Figure at 0x206b87e9828>"
      ]
     },
     "metadata": {},
     "output_type": "display_data"
    }
   ],
   "source": [
    "\n",
    "dadosdados = dados.iloc[:,2:8].unstack().value_counts()\n",
    "\n",
    "#media dos 6 números que menos sairam \n",
    "a=(dadosdados[-6:].sum()/(dadosdados[-6:].sum()+dadosdados[0:6].sum()))*100\n",
    "#media dos 6 números que mais sairam \n",
    "b=(dadosdados[0:6].sum()/(dadosdados[-6:].sum()+dadosdados[0:6].sum())) *100\n",
    "\n",
    "\n",
    "\n",
    "# Variáveis para o Bar Chart\n",
    "y_axis = [a,b]\n",
    "x_axis = range(0,2)\n",
    "width_n = 0.8\n",
    "bar_color = 'yellow'\n",
    "plt.title('Sairam menos X Sairam mais')\n",
    "plt.bar(x_axis, y_axis, color=bar_color)\n",
    "plt.show()"
   ]
  },
  {
   "cell_type": "markdown",
   "metadata": {},
   "source": [
    "## Arrecadação da Megasena de 2014 até 2017\n",
    "\n",
    "\n",
    "No grafico abaixo é possivel observar que a arrecadação da megasena dos anos de 2014 até 2017, e é possivel observar também que na mega da virada(sorteio que ocorre no ultimo dia do ano) ocorre um aumento exponencial na arrecadação."
   ]
  },
  {
   "cell_type": "code",
   "execution_count": 72,
   "metadata": {
    "scrolled": true
   },
   "outputs": [
    {
     "data": {
      "image/png": "[encoded data removed]",
      "text/plain": [
       "<matplotlib.figure.Figure at 0x2071aa933c8>"
      ]
     },
     "metadata": {},
     "output_type": "display_data"
    },
    {
     "data": {
      "text/plain": [
       "<matplotlib.figure.Figure at 0x206b037a470>"
      ]
     },
     "metadata": {},
     "output_type": "display_data"
    }
   ],
   "source": [
    "#Toda arrecadação dos sorteios durante o ano de 2014\n",
    "plt.plot(dados[1560:1665]['Data Sorteio'], dados[1560:1665]['Arrecadacao_Total'], c='blue', label='2014')\n",
    "#Toda arrecadação dos sorteios durante o ano de 2015\n",
    "plt.plot(dados[1665:1775]['Data Sorteio'], dados[1665:1775]['Arrecadacao_Total'], c='green', label='2015')\n",
    "#Toda arrecadação dos sorteios durante o ano de 2016\n",
    "plt.plot(dados[1775:1890]['Data Sorteio'], dados[1775:1890]['Arrecadacao_Total'], c='black', label='2016')\n",
    "#Toda arrecadação dos sorteios durante o ano de 2017\n",
    "plt.plot(dados[1890:2000]['Data Sorteio'], dados[1890:2000]['Arrecadacao_Total'], c='red', label='2017')\n",
    "plt.xticks(rotation=90)\n",
    "plt.xlabel('periodo de 2014 á 2b017')\n",
    "plt.title('Arrecadação de 2014 á  2017')\n",
    "fig = plt.figure(figsize=(10,10))\n",
    "plt.show()\n"
   ]
  },
  {
   "cell_type": "markdown",
   "metadata": {},
   "source": [
    "## média de arrecadação   X arrecadação Mega da Virada\n",
    "\n",
    "No grafico abaixo comparamos toda a media de arrecadação do ano de 2017, com a arrecadação da mega da virada do mesmo ano, fica evidente a diferença a diferença é muito grande."
   ]
  },
  {
   "cell_type": "code",
   "execution_count": 135,
   "metadata": {},
   "outputs": [
    {
     "name": "stdout",
     "output_type": "stream",
     "text": [
      "45352570.110091746\n",
      "890947368.5\n"
     ]
    },
    {
     "data": {
      "image/png": "[encoded data removed]",
      "text/plain": [
       "<matplotlib.figure.Figure at 0x206b87d75f8>"
      ]
     },
     "metadata": {},
     "output_type": "display_data"
    }
   ],
   "source": [
    "\n",
    "\n",
    "c =dados[1890:1999]['Arrecadacao_Total'].sum()/dados[1890:1999].shape[0]\n",
    "d = dados[1999:2000]['Arrecadacao_Total'].sum()\n",
    "y_axis = [c,d]\n",
    "x_axis = range(len(y_axis))\n",
    "width_n = 0.4\n",
    "bar_color = 'blue'\n",
    "plt.title('Média de Arrecadação de 2017 X Mega da virada 2017')\n",
    "plt.bar(x_axis, y_axis, color=bar_color,align='center')\n",
    "plt.show()\n",
    "\n",
    "\n",
    "   \n",
    "\n"
   ]
  }
 ],
 "metadata": {
  "kernelspec": {
   "display_name": "Python 3",
   "language": "python",
   "name": "python3"
  },
  "language_info": {
   "codemirror_mode": {
    "name": "ipython",
    "version": 3
   },
   "file_extension": ".py",
   "mimetype": "text/x-python",
   "name": "python",
   "nbconvert_exporter": "python",
   "pygments_lexer": "ipython3",
   "version": "3.6.4"
  }
 },
 "nbformat": 4,
 "nbformat_minor": 2
}
